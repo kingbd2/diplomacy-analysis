{
 "cells": [
  {
   "cell_type": "code",
   "execution_count": 1,
   "metadata": {},
   "outputs": [],
   "source": [
    "from random import randint\n",
    "from time import sleep\n",
    "from bs4 import BeautifulSoup\n",
    "from datetime import date\n",
    "import re\n",
    "\n",
    "import os\n",
    "from os import listdir\n",
    "from os.path import isfile, join\n",
    "\n",
    "from selenium import webdriver\n",
    "from selenium.webdriver.common.keys import Keys\n",
    "\n",
    "from svgpathtools import parse_path, Line, Path, wsvg\n",
    "from svgimgutils import SVGImgUtils\n",
    "import cairosvg"
   ]
  },
  {
   "cell_type": "code",
   "execution_count": 18,
   "metadata": {},
   "outputs": [
    {
     "name": "stdout",
     "output_type": "stream",
     "text": [
      "/home/bking/Projects/poetry/diplomacy_gif_maker/diplomacy_gif_maker/json_data\n",
      "/home/bking/Projects/poetry/diplomacy_gif_maker/diplomacy_gif_maker/csv\n",
      "/home/bking/Projects/poetry/diplomacy_gif_maker/diplomacy_gif_maker/images/png\n",
      "/home/bking/Projects/poetry/diplomacy_gif_maker/diplomacy_gif_maker/images/svg\n",
      "/home/bking/Projects/poetry/diplomacy_gif_maker/diplomacy_gif_maker/images/gif/game-modified3.gif\n"
     ]
    }
   ],
   "source": [
    "# Make file paths\n",
    "BASE_DIR = os.path.dirname(os.path.dirname(os.path.abspath(os.path.abspath(''))))\n",
    "json_data_path = os.path.join(BASE_DIR, 'diplomacy_gif_maker/diplomacy_gif_maker/json_data')\n",
    "csv_data_path = os.path.join(BASE_DIR, 'diplomacy_gif_maker/diplomacy_gif_maker/csv')\n",
    "images_path = os.path.join(BASE_DIR, 'diplomacy_gif_maker/diplomacy_gif_maker/images')\n",
    "svg_path = os.path.join(BASE_DIR, 'diplomacy_gif_maker/diplomacy_gif_maker/images/svg')\n",
    "png_path = os.path.join(BASE_DIR, 'diplomacy_gif_maker/diplomacy_gif_maker/images/png')\n",
    "gif_path = os.path.join(BASE_DIR, 'diplomacy_gif_maker/diplomacy_gif_maker/images/gif/game-modified3.gif')\n",
    "print(json_data_path)\n",
    "print(csv_data_path)\n",
    "print(png_path)\n",
    "print(svg_path)\n",
    "print(gif_path)"
   ]
  },
  {
   "cell_type": "code",
   "execution_count": null,
   "metadata": {},
   "outputs": [],
   "source": [
    "# Get svg image of units and borders from all urls\n",
    "for i, url in enumerate(urls):\n",
    "    sleep(randint(3,10))\n",
    "    driver = webdriver.Firefox()\n",
    "    driver.get(url)\n",
    "    xpath = \"//*[name()='svg']//*[name()='path']\";\n",
    "    target_id = 'map'\n",
    "    elem = driver.find_element_by_id(target_id)\n",
    "    html = elem.get_attribute('innerHTML')\n",
    "    driver.close()\n",
    "    \n",
    "    # Parse svg\n",
    "    soup = BeautifulSoup(html,'lxml')\n",
    "    soup.image.decompose()\n",
    "    paths = soup.find_all('svg')\n",
    "    paths_string = str(paths)\n",
    "    svg_file_text = '<?xml version=\"1.0\" encoding=\"utf-8\" ?>' + paths_string[1:-1]\n",
    "    svg_file_text = svg_file_text.replace(\"viewbox\", \"viewBox\")\n",
    "    svg_file_text = svg_file_text.replace('<image height=\"560\" preserveaspectratio=\"none\" transform=\"matrix(1,0,0,1,0,0)\" width=\"610\" x=\"-1\" xlink:href=\"../map_background.png\" y=\"-1\"/>', '')\n",
    "    svg_file_text = svg_file_text.replace('style=\"overflow: hidden; position: relative;\"', 'style=\"overflow: hidden; position: relative; background-color: white\"')\n",
    "    # Save svg\n",
    "    text_file = open(\"images/svg/season\"+str(i)+\".svg\", \"w\")\n",
    "    n = text_file.write(svg_file_text)\n",
    "    text_file.close()"
   ]
  },
  {
   "cell_type": "code",
   "execution_count": null,
   "metadata": {},
   "outputs": [],
   "source": [
    "# Convert SVGs to PNGs\n",
    "svg_files = [f for f in listdir(svg_path) if isfile(join(svg_path, f))]\n",
    "for item in range(0,len(svg_files)-1):\n",
    "    cairosvg.svg2png(\n",
    "        url=str(svg_path)+\"/season\"+str(item)+\".svg\", write_to=str(png_path)+\"/season\"+str(item)+\".png\")"
   ]
  },
  {
   "cell_type": "code",
   "execution_count": 52,
   "metadata": {},
   "outputs": [],
   "source": [
    "# import svgwrite\n",
    "# dwg = svgwrite.Drawing('test.svg', profile='tiny')\n",
    "# dwg.add(dwg.line((0, 0), (10, 0), stroke=svgwrite.rgb(10, 10, 16, '%')))\n",
    "# dwg.add(dwg.text('Test', insert=(0, 0.2)))\n",
    "# dwg.save()"
   ]
  },
  {
   "cell_type": "code",
   "execution_count": 11,
   "metadata": {
    "collapsed": true,
    "jupyter": {
     "outputs_hidden": true
    }
   },
   "outputs": [
    {
     "data": {
      "text/plain": [
       "['season18.png',\n",
       " 'season50.png',\n",
       " 'season56.png',\n",
       " 'season48.png',\n",
       " 'season2.png',\n",
       " 'season35.png',\n",
       " 'season15.png',\n",
       " 'season19.png',\n",
       " 'season59.png',\n",
       " 'season58.png',\n",
       " 'season16.png',\n",
       " 'season27.png',\n",
       " 'season49.png',\n",
       " 'season21.png',\n",
       " 'season13.png',\n",
       " 'season6.png',\n",
       " 'season14.png',\n",
       " 'season26.png',\n",
       " 'season57.png',\n",
       " 'season34.png',\n",
       " 'season40.png',\n",
       " 'season31.png',\n",
       " 'season52.png',\n",
       " 'season32.png',\n",
       " 'season55.png',\n",
       " 'season39.png',\n",
       " 'season45.png',\n",
       " 'season4.png',\n",
       " 'season38.png',\n",
       " 'season8.png',\n",
       " 'season5.png',\n",
       " 'season24.png',\n",
       " 'season44.png',\n",
       " 'season53.png',\n",
       " 'season28.png',\n",
       " 'season3.png',\n",
       " 'season10.png',\n",
       " 'season42.png',\n",
       " 'season51.png',\n",
       " 'season54.png',\n",
       " 'season46.png',\n",
       " 'season30.png',\n",
       " 'season1.png',\n",
       " 'season41.png',\n",
       " 'season9.png',\n",
       " 'season43.png',\n",
       " 'season11.png',\n",
       " 'season20.png',\n",
       " 'season22.png',\n",
       " 'season7.png',\n",
       " 'season33.png',\n",
       " 'season37.png',\n",
       " 'season23.png',\n",
       " 'season36.png',\n",
       " 'season17.png',\n",
       " 'season29.png',\n",
       " 'season25.png',\n",
       " 'season47.png',\n",
       " 'season0.png',\n",
       " 'season12.png']"
      ]
     },
     "execution_count": 11,
     "metadata": {},
     "output_type": "execute_result"
    }
   ],
   "source": [
    "images = []\n",
    "filenames = [f for f in listdir(png_path) if isfile(join(png_path, f))]\n",
    "sub = 'modified'\n",
    "filenames_list = [i for i in filenames if sub not in i]\n",
    "# Human sorting of file name list\n",
    "def atoi(text):\n",
    "    return int(text) if text.isdigit() else text\n",
    "\n",
    "def natural_keys(text):\n",
    "    '''\n",
    "    alist.sort(key=natural_keys) sorts in human order\n",
    "    http://nedbatchelder.com/blog/200712/human_sorting.html\n",
    "    (See Toothy's implementation in the comments)\n",
    "    '''\n",
    "    return [ atoi(c) for c in re.split(r'(\\d+)', text) ]\n",
    "\n",
    "filenames_list.sort(key=natural_keys)\n",
    "filenames_list = filenames_list[1:]\n",
    "print(filenames_list)"
   ]
  },
  {
   "cell_type": "code",
   "execution_count": 18,
   "metadata": {},
   "outputs": [],
   "source": [
    "from PIL import Image\n",
    "filenames = [f for f in listdir(png_path) if isfile(join(png_path, f))]\n",
    "for i, file in enumerate(filenames_list):\n",
    "    image = Image.open(str(png_path)+'/season' + str(i) + '.png')\n",
    "    image.convert(\"RGBA\") # Convert this to RGBA if possible\n",
    "    canvas_grey_value = 180\n",
    "    alpha = 255\n",
    "    canvas = Image.new('RGBA', image.size, (canvas_grey_value,canvas_grey_value,canvas_grey_value,alpha)) # Empty canvas colour (r,g,b,a)\n",
    "    canvas.paste(image, mask=image) # Paste the image onto the canvas, using it's alpha channel as mask\n",
    "    canvas.save(str(png_path)+'/modified-season' + str(i) + '.png', format=\"PNG\")"
   ]
  },
  {
   "cell_type": "code",
   "execution_count": 19,
   "metadata": {
    "collapsed": true,
    "jupyter": {
     "outputs_hidden": true
    }
   },
   "outputs": [
    {
     "name": "stdout",
     "output_type": "stream",
     "text": [
      "/home/bking/Projects/poetry/diplomacy_gif_maker/diplomacy_gif_maker/images/png/modified-season0.png\n",
      "/home/bking/Projects/poetry/diplomacy_gif_maker/diplomacy_gif_maker/images/png/modified-season1.png\n",
      "/home/bking/Projects/poetry/diplomacy_gif_maker/diplomacy_gif_maker/images/png/modified-season2.png\n",
      "/home/bking/Projects/poetry/diplomacy_gif_maker/diplomacy_gif_maker/images/png/modified-season3.png\n",
      "/home/bking/Projects/poetry/diplomacy_gif_maker/diplomacy_gif_maker/images/png/modified-season4.png\n",
      "/home/bking/Projects/poetry/diplomacy_gif_maker/diplomacy_gif_maker/images/png/modified-season5.png\n",
      "/home/bking/Projects/poetry/diplomacy_gif_maker/diplomacy_gif_maker/images/png/modified-season6.png\n",
      "/home/bking/Projects/poetry/diplomacy_gif_maker/diplomacy_gif_maker/images/png/modified-season7.png\n",
      "/home/bking/Projects/poetry/diplomacy_gif_maker/diplomacy_gif_maker/images/png/modified-season8.png\n",
      "/home/bking/Projects/poetry/diplomacy_gif_maker/diplomacy_gif_maker/images/png/modified-season9.png\n",
      "/home/bking/Projects/poetry/diplomacy_gif_maker/diplomacy_gif_maker/images/png/modified-season10.png\n",
      "/home/bking/Projects/poetry/diplomacy_gif_maker/diplomacy_gif_maker/images/png/modified-season11.png\n",
      "/home/bking/Projects/poetry/diplomacy_gif_maker/diplomacy_gif_maker/images/png/modified-season12.png\n",
      "/home/bking/Projects/poetry/diplomacy_gif_maker/diplomacy_gif_maker/images/png/modified-season13.png\n",
      "/home/bking/Projects/poetry/diplomacy_gif_maker/diplomacy_gif_maker/images/png/modified-season14.png\n",
      "/home/bking/Projects/poetry/diplomacy_gif_maker/diplomacy_gif_maker/images/png/modified-season15.png\n",
      "/home/bking/Projects/poetry/diplomacy_gif_maker/diplomacy_gif_maker/images/png/modified-season16.png\n",
      "/home/bking/Projects/poetry/diplomacy_gif_maker/diplomacy_gif_maker/images/png/modified-season17.png\n",
      "/home/bking/Projects/poetry/diplomacy_gif_maker/diplomacy_gif_maker/images/png/modified-season18.png\n",
      "/home/bking/Projects/poetry/diplomacy_gif_maker/diplomacy_gif_maker/images/png/modified-season19.png\n",
      "/home/bking/Projects/poetry/diplomacy_gif_maker/diplomacy_gif_maker/images/png/modified-season20.png\n",
      "/home/bking/Projects/poetry/diplomacy_gif_maker/diplomacy_gif_maker/images/png/modified-season21.png\n",
      "/home/bking/Projects/poetry/diplomacy_gif_maker/diplomacy_gif_maker/images/png/modified-season22.png\n",
      "/home/bking/Projects/poetry/diplomacy_gif_maker/diplomacy_gif_maker/images/png/modified-season23.png\n",
      "/home/bking/Projects/poetry/diplomacy_gif_maker/diplomacy_gif_maker/images/png/modified-season24.png\n",
      "/home/bking/Projects/poetry/diplomacy_gif_maker/diplomacy_gif_maker/images/png/modified-season25.png\n",
      "/home/bking/Projects/poetry/diplomacy_gif_maker/diplomacy_gif_maker/images/png/modified-season26.png\n",
      "/home/bking/Projects/poetry/diplomacy_gif_maker/diplomacy_gif_maker/images/png/modified-season27.png\n",
      "/home/bking/Projects/poetry/diplomacy_gif_maker/diplomacy_gif_maker/images/png/modified-season28.png\n",
      "/home/bking/Projects/poetry/diplomacy_gif_maker/diplomacy_gif_maker/images/png/modified-season29.png\n",
      "/home/bking/Projects/poetry/diplomacy_gif_maker/diplomacy_gif_maker/images/png/modified-season30.png\n",
      "/home/bking/Projects/poetry/diplomacy_gif_maker/diplomacy_gif_maker/images/png/modified-season31.png\n",
      "/home/bking/Projects/poetry/diplomacy_gif_maker/diplomacy_gif_maker/images/png/modified-season32.png\n",
      "/home/bking/Projects/poetry/diplomacy_gif_maker/diplomacy_gif_maker/images/png/modified-season33.png\n",
      "/home/bking/Projects/poetry/diplomacy_gif_maker/diplomacy_gif_maker/images/png/modified-season34.png\n",
      "/home/bking/Projects/poetry/diplomacy_gif_maker/diplomacy_gif_maker/images/png/modified-season35.png\n",
      "/home/bking/Projects/poetry/diplomacy_gif_maker/diplomacy_gif_maker/images/png/modified-season36.png\n",
      "/home/bking/Projects/poetry/diplomacy_gif_maker/diplomacy_gif_maker/images/png/modified-season37.png\n",
      "/home/bking/Projects/poetry/diplomacy_gif_maker/diplomacy_gif_maker/images/png/modified-season38.png\n",
      "/home/bking/Projects/poetry/diplomacy_gif_maker/diplomacy_gif_maker/images/png/modified-season39.png\n",
      "/home/bking/Projects/poetry/diplomacy_gif_maker/diplomacy_gif_maker/images/png/modified-season40.png\n",
      "/home/bking/Projects/poetry/diplomacy_gif_maker/diplomacy_gif_maker/images/png/modified-season41.png\n",
      "/home/bking/Projects/poetry/diplomacy_gif_maker/diplomacy_gif_maker/images/png/modified-season42.png\n",
      "/home/bking/Projects/poetry/diplomacy_gif_maker/diplomacy_gif_maker/images/png/modified-season43.png\n",
      "/home/bking/Projects/poetry/diplomacy_gif_maker/diplomacy_gif_maker/images/png/modified-season44.png\n",
      "/home/bking/Projects/poetry/diplomacy_gif_maker/diplomacy_gif_maker/images/png/modified-season45.png\n",
      "/home/bking/Projects/poetry/diplomacy_gif_maker/diplomacy_gif_maker/images/png/modified-season46.png\n",
      "/home/bking/Projects/poetry/diplomacy_gif_maker/diplomacy_gif_maker/images/png/modified-season47.png\n",
      "/home/bking/Projects/poetry/diplomacy_gif_maker/diplomacy_gif_maker/images/png/modified-season48.png\n",
      "/home/bking/Projects/poetry/diplomacy_gif_maker/diplomacy_gif_maker/images/png/modified-season49.png\n",
      "/home/bking/Projects/poetry/diplomacy_gif_maker/diplomacy_gif_maker/images/png/modified-season50.png\n",
      "/home/bking/Projects/poetry/diplomacy_gif_maker/diplomacy_gif_maker/images/png/modified-season51.png\n",
      "/home/bking/Projects/poetry/diplomacy_gif_maker/diplomacy_gif_maker/images/png/modified-season52.png\n",
      "/home/bking/Projects/poetry/diplomacy_gif_maker/diplomacy_gif_maker/images/png/modified-season53.png\n",
      "/home/bking/Projects/poetry/diplomacy_gif_maker/diplomacy_gif_maker/images/png/modified-season54.png\n",
      "/home/bking/Projects/poetry/diplomacy_gif_maker/diplomacy_gif_maker/images/png/modified-season55.png\n",
      "/home/bking/Projects/poetry/diplomacy_gif_maker/diplomacy_gif_maker/images/png/modified-season56.png\n",
      "/home/bking/Projects/poetry/diplomacy_gif_maker/diplomacy_gif_maker/images/png/modified-season57.png\n",
      "/home/bking/Projects/poetry/diplomacy_gif_maker/diplomacy_gif_maker/images/png/modified-season58.png\n"
     ]
    }
   ],
   "source": [
    "# Make GIF\n",
    "gif_path = os.path.join(BASE_DIR, 'diplomacy_gif_maker/diplomacy_gif_maker/images/gif/game-modified3.gif')\n",
    "\n",
    "gif_filename_list = []\n",
    "for i, file in enumerate(filenames_list):\n",
    "    file_string = png_path + '/modified-season' + str(i) + '.png'\n",
    "    gif_filename_list.append(file_string)\n",
    "#     print(gif_filename_list)\n",
    "images = []\n",
    "for filename in gif_filename_list:\n",
    "    images.append(imageio.imread(filename))\n",
    "imageio.mimsave(gif_path, images, fps=1.5)"
   ]
  },
  {
   "cell_type": "code",
   "execution_count": 21,
   "metadata": {
    "collapsed": true,
    "jupyter": {
     "outputs_hidden": true
    }
   },
   "outputs": [
    {
     "ename": "IndexError",
     "evalue": "list index out of range",
     "output_type": "error",
     "traceback": [
      "\u001b[0;31m---------------------------------------------------------------------------\u001b[0m",
      "\u001b[0;31mIndexError\u001b[0m                                Traceback (most recent call last)",
      "\u001b[0;32m<ipython-input-21-ded890b2ccbf>\u001b[0m in \u001b[0;36m<module>\u001b[0;34m\u001b[0m\n\u001b[1;32m      1\u001b[0m \u001b[0;31m# Create SVG Image Utils for each SVG image\u001b[0m\u001b[0;34m\u001b[0m\u001b[0;34m\u001b[0m\u001b[0;34m\u001b[0m\u001b[0m\n\u001b[0;32m----> 2\u001b[0;31m \u001b[0mbase_template\u001b[0m \u001b[0;34m=\u001b[0m \u001b[0mSVGImgUtils\u001b[0m\u001b[0;34m.\u001b[0m\u001b[0mfromfile\u001b[0m\u001b[0;34m(\u001b[0m\u001b[0mimages_path\u001b[0m \u001b[0;34m+\u001b[0m \u001b[0;34m'/map_background_real.svg'\u001b[0m\u001b[0;34m)\u001b[0m\u001b[0;34m\u001b[0m\u001b[0;34m\u001b[0m\u001b[0m\n\u001b[0m\u001b[1;32m      3\u001b[0m \u001b[0maction\u001b[0m \u001b[0;34m=\u001b[0m \u001b[0mSVGImgUtils\u001b[0m\u001b[0;34m.\u001b[0m\u001b[0mfromfile\u001b[0m\u001b[0;34m(\u001b[0m\u001b[0msvg_path\u001b[0m \u001b[0;34m+\u001b[0m \u001b[0;34m'/season0.svg'\u001b[0m\u001b[0;34m)\u001b[0m\u001b[0;34m\u001b[0m\u001b[0;34m\u001b[0m\u001b[0m\n\u001b[1;32m      4\u001b[0m \u001b[0mbase_template\u001b[0m\u001b[0;34m.\u001b[0m\u001b[0mappend\u001b[0m\u001b[0;34m(\u001b[0m\u001b[0maction\u001b[0m\u001b[0;34m)\u001b[0m\u001b[0;34m\u001b[0m\u001b[0;34m\u001b[0m\u001b[0m\n\u001b[1;32m      5\u001b[0m \u001b[0mbase_template\u001b[0m\u001b[0;34m.\u001b[0m\u001b[0msave\u001b[0m\u001b[0;34m(\u001b[0m\u001b[0mimages_path\u001b[0m \u001b[0;34m+\u001b[0m \u001b[0;34m'/merged.svg'\u001b[0m\u001b[0;34m)\u001b[0m\u001b[0;34m\u001b[0m\u001b[0;34m\u001b[0m\u001b[0m\n",
      "\u001b[0;32m~/.cache/pypoetry/virtualenvs/diplomacy-gif-maker-dQ5Phzro-py3.7/lib/python3.7/site-packages/svgimgutils.py\u001b[0m in \u001b[0;36mfromfile\u001b[0;34m(fname)\u001b[0m\n\u001b[1;32m    113\u001b[0m         \u001b[0mfid\u001b[0m\u001b[0;34m.\u001b[0m\u001b[0mclose\u001b[0m\u001b[0;34m(\u001b[0m\u001b[0;34m)\u001b[0m\u001b[0;34m\u001b[0m\u001b[0;34m\u001b[0m\u001b[0m\n\u001b[1;32m    114\u001b[0m         \u001b[0mfig\u001b[0m\u001b[0;34m.\u001b[0m\u001b[0mroot\u001b[0m \u001b[0;34m=\u001b[0m \u001b[0msvg_file\u001b[0m\u001b[0;34m.\u001b[0m\u001b[0mgetroot\u001b[0m\u001b[0;34m(\u001b[0m\u001b[0;34m)\u001b[0m\u001b[0;34m\u001b[0m\u001b[0;34m\u001b[0m\u001b[0m\n\u001b[0;32m--> 115\u001b[0;31m         \u001b[0mfig\u001b[0m\u001b[0;34m.\u001b[0m\u001b[0madddata\u001b[0m\u001b[0;34m(\u001b[0m\u001b[0;34m)\u001b[0m\u001b[0;34m\u001b[0m\u001b[0;34m\u001b[0m\u001b[0m\n\u001b[0m\u001b[1;32m    116\u001b[0m         \u001b[0;32mreturn\u001b[0m \u001b[0mfig\u001b[0m\u001b[0;34m\u001b[0m\u001b[0;34m\u001b[0m\u001b[0m\n\u001b[1;32m    117\u001b[0m \u001b[0;34m\u001b[0m\u001b[0m\n",
      "\u001b[0;32m~/.cache/pypoetry/virtualenvs/diplomacy-gif-maker-dQ5Phzro-py3.7/lib/python3.7/site-packages/svgimgutils.py\u001b[0m in \u001b[0;36madddata\u001b[0;34m(self)\u001b[0m\n\u001b[1;32m    142\u001b[0m     \u001b[0;32mdef\u001b[0m \u001b[0madddata\u001b[0m\u001b[0;34m(\u001b[0m\u001b[0mself\u001b[0m\u001b[0;34m)\u001b[0m\u001b[0;34m:\u001b[0m\u001b[0;34m\u001b[0m\u001b[0;34m\u001b[0m\u001b[0m\n\u001b[1;32m    143\u001b[0m         \u001b[0;34m\"\"\"Add more data to the svgimgutils\"\"\"\u001b[0m\u001b[0;34m\u001b[0m\u001b[0;34m\u001b[0m\u001b[0m\n\u001b[0;32m--> 144\u001b[0;31m         \u001b[0mself\u001b[0m\u001b[0;34m.\u001b[0m\u001b[0mstyle_element\u001b[0m \u001b[0;34m=\u001b[0m \u001b[0mself\u001b[0m\u001b[0;34m.\u001b[0m\u001b[0mroot\u001b[0m\u001b[0;34m.\u001b[0m\u001b[0mfind\u001b[0m\u001b[0;34m(\u001b[0m\u001b[0;34m'./'\u001b[0m \u001b[0;34m+\u001b[0m \u001b[0mself\u001b[0m\u001b[0;34m.\u001b[0m\u001b[0mroot\u001b[0m\u001b[0;34m[\u001b[0m\u001b[0;36m0\u001b[0m\u001b[0;34m]\u001b[0m\u001b[0;34m.\u001b[0m\u001b[0mtag\u001b[0m \u001b[0;34m+\u001b[0m \u001b[0;34m'/'\u001b[0m \u001b[0;34m+\u001b[0m \u001b[0mself\u001b[0m\u001b[0;34m.\u001b[0m\u001b[0mroot\u001b[0m\u001b[0;34m[\u001b[0m\u001b[0;36m0\u001b[0m\u001b[0;34m]\u001b[0m\u001b[0;34m[\u001b[0m\u001b[0;36m0\u001b[0m\u001b[0;34m]\u001b[0m\u001b[0;34m.\u001b[0m\u001b[0mtag\u001b[0m\u001b[0;34m)\u001b[0m\u001b[0;34m\u001b[0m\u001b[0;34m\u001b[0m\u001b[0m\n\u001b[0m\u001b[1;32m    145\u001b[0m         \u001b[0mself\u001b[0m\u001b[0;34m.\u001b[0m\u001b[0mnumber_of_classes\u001b[0m \u001b[0;34m=\u001b[0m \u001b[0mcssutils\u001b[0m\u001b[0;34m.\u001b[0m\u001b[0mparseString\u001b[0m\u001b[0;34m(\u001b[0m\u001b[0mself\u001b[0m\u001b[0;34m.\u001b[0m\u001b[0mstyle_element\u001b[0m\u001b[0;34m.\u001b[0m\u001b[0mtext\u001b[0m\u001b[0;34m)\u001b[0m\u001b[0;34m.\u001b[0m\u001b[0mcssRules\u001b[0m\u001b[0;34m.\u001b[0m\u001b[0mlength\u001b[0m\u001b[0;34m\u001b[0m\u001b[0;34m\u001b[0m\u001b[0m\n\u001b[1;32m    146\u001b[0m \u001b[0;34m\u001b[0m\u001b[0m\n",
      "\u001b[0;32msrc/lxml/etree.pyx\u001b[0m in \u001b[0;36mlxml.etree._Element.__getitem__\u001b[0;34m()\u001b[0m\n",
      "\u001b[0;31mIndexError\u001b[0m: list index out of range"
     ]
    }
   ],
   "source": [
    "# Create SVG Image Utils for each SVG image\n",
    "base_template = SVGImgUtils.fromfile(images_path + '/map_background_real.svg')\n",
    "action = SVGImgUtils.fromfile(svg_path + '/season0.svg')\n",
    "base_template.append(action)\n",
    "base_template.save(images_path + '/merged.svg')"
   ]
  },
  {
   "cell_type": "code",
   "execution_count": 14,
   "metadata": {},
   "outputs": [],
   "source": [
    "import svgutils.transform as st\n",
    "template = st.fromfile(images_path + '/map_background_real_scaled.svg')\n",
    "second_svg = st.fromfile(svg_path + '/season0-scaled.svg')\n",
    "template.append(second_svg)\n",
    "template.save(images_path + '/merged2.svg')"
   ]
  }
 ],
 "metadata": {
  "kernelspec": {
   "display_name": "Python 3",
   "language": "python",
   "name": "python3"
  },
  "language_info": {
   "codemirror_mode": {
    "name": "ipython",
    "version": 3
   },
   "file_extension": ".py",
   "mimetype": "text/x-python",
   "name": "python",
   "nbconvert_exporter": "python",
   "pygments_lexer": "ipython3",
   "version": "3.7.4"
  }
 },
 "nbformat": 4,
 "nbformat_minor": 4
}
